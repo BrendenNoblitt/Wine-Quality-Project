{
 "cells": [
  {
   "cell_type": "markdown",
   "metadata": {},
   "source": [
    "# Wine Quality Project"
   ]
  },
  {
   "cell_type": "markdown",
   "metadata": {},
   "source": [
    "## Understanding Business Objectives\n",
    "### Data Mining Objectives \n",
    "#### 1. Clean data and delete outliers\n",
    "#### 2. Find which variables corrleate closest to quality\n",
    "#### 3. Create a model that can predict quality by said variables"
   ]
  },
  {
   "cell_type": "markdown",
   "metadata": {},
   "source": [
    "## Data Understanding"
   ]
  },
  {
   "cell_type": "code",
   "execution_count": 4,
   "metadata": {},
   "outputs": [
    {
     "data": {
      "text/html": [
       "<div>\n",
       "<style scoped>\n",
       "    .dataframe tbody tr th:only-of-type {\n",
       "        vertical-align: middle;\n",
       "    }\n",
       "\n",
       "    .dataframe tbody tr th {\n",
       "        vertical-align: top;\n",
       "    }\n",
       "\n",
       "    .dataframe thead th {\n",
       "        text-align: right;\n",
       "    }\n",
       "</style>\n",
       "<table border=\"1\" class=\"dataframe\">\n",
       "  <thead>\n",
       "    <tr style=\"text-align: right;\">\n",
       "      <th></th>\n",
       "      <th>data_number</th>\n",
       "      <th>fixed_acidity</th>\n",
       "      <th>volatile_acidity</th>\n",
       "      <th>citric_acid</th>\n",
       "      <th>residual_sugar</th>\n",
       "      <th>chlorides</th>\n",
       "      <th>free_sulfur_dioxide</th>\n",
       "      <th>total_sulfur_dioxide</th>\n",
       "      <th>density</th>\n",
       "      <th>pH</th>\n",
       "      <th>sulphates</th>\n",
       "      <th>alcohol</th>\n",
       "      <th>quality</th>\n",
       "      <th>quality_index</th>\n",
       "    </tr>\n",
       "  </thead>\n",
       "  <tbody>\n",
       "    <tr>\n",
       "      <th>0</th>\n",
       "      <td>1270</td>\n",
       "      <td>5.5</td>\n",
       "      <td>0.49</td>\n",
       "      <td>0.03</td>\n",
       "      <td>1.8</td>\n",
       "      <td>0.044</td>\n",
       "      <td>28.0</td>\n",
       "      <td>87.0</td>\n",
       "      <td>0.9900</td>\n",
       "      <td>3.50</td>\n",
       "      <td>0.82</td>\n",
       "      <td>10.2</td>\n",
       "      <td>8</td>\n",
       "      <td>1</td>\n",
       "    </tr>\n",
       "    <tr>\n",
       "      <th>1</th>\n",
       "      <td>589</td>\n",
       "      <td>5.0</td>\n",
       "      <td>0.42</td>\n",
       "      <td>0.24</td>\n",
       "      <td>2.0</td>\n",
       "      <td>0.060</td>\n",
       "      <td>19.0</td>\n",
       "      <td>50.0</td>\n",
       "      <td>0.9900</td>\n",
       "      <td>3.31</td>\n",
       "      <td>0.74</td>\n",
       "      <td>10.2</td>\n",
       "      <td>8</td>\n",
       "      <td>1</td>\n",
       "    </tr>\n",
       "    <tr>\n",
       "      <th>2</th>\n",
       "      <td>456</td>\n",
       "      <td>11.3</td>\n",
       "      <td>0.62</td>\n",
       "      <td>0.67</td>\n",
       "      <td>2.2</td>\n",
       "      <td>0.086</td>\n",
       "      <td>6.0</td>\n",
       "      <td>19.0</td>\n",
       "      <td>0.9988</td>\n",
       "      <td>3.22</td>\n",
       "      <td>0.69</td>\n",
       "      <td>13.4</td>\n",
       "      <td>8</td>\n",
       "      <td>1</td>\n",
       "    </tr>\n",
       "  </tbody>\n",
       "</table>\n",
       "</div>"
      ],
      "text/plain": [
       "   data_number  fixed_acidity  volatile_acidity  citric_acid  residual_sugar  \\\n",
       "0         1270            5.5              0.49         0.03             1.8   \n",
       "1          589            5.0              0.42         0.24             2.0   \n",
       "2          456           11.3              0.62         0.67             2.2   \n",
       "\n",
       "   chlorides  free_sulfur_dioxide  total_sulfur_dioxide  density    pH  \\\n",
       "0      0.044                 28.0                  87.0   0.9900  3.50   \n",
       "1      0.060                 19.0                  50.0   0.9900  3.31   \n",
       "2      0.086                  6.0                  19.0   0.9988  3.22   \n",
       "\n",
       "   sulphates  alcohol  quality  quality_index  \n",
       "0       0.82     10.2        8              1  \n",
       "1       0.74     10.2        8              1  \n",
       "2       0.69     13.4        8              1  "
      ]
     },
     "execution_count": 4,
     "metadata": {},
     "output_type": "execute_result"
    }
   ],
   "source": [
    "import pandas as pd \n",
    "import numpy as np \n",
    "import seaborn as sns \n",
    "import matplotlib.pyplot as plt \n",
    "\n",
    "df_wine = pd.read_excel(r'C:\\Users\\brenden.noblitt\\Desktop\\wine.xlsx')\n",
    "df_wine.head(3)"
   ]
  },
  {
   "cell_type": "code",
   "execution_count": 5,
   "metadata": {},
   "outputs": [
    {
     "name": "stdout",
     "output_type": "stream",
     "text": [
      "<class 'pandas.core.frame.DataFrame'>\n",
      "RangeIndex: 1599 entries, 0 to 1598\n",
      "Data columns (total 14 columns):\n",
      " #   Column                Non-Null Count  Dtype  \n",
      "---  ------                --------------  -----  \n",
      " 0   data_number           1599 non-null   int64  \n",
      " 1   fixed_acidity         1599 non-null   float64\n",
      " 2   volatile_acidity      1599 non-null   float64\n",
      " 3   citric_acid           1599 non-null   float64\n",
      " 4   residual_sugar        1599 non-null   float64\n",
      " 5   chlorides             1599 non-null   float64\n",
      " 6   free_sulfur_dioxide   1599 non-null   float64\n",
      " 7   total_sulfur_dioxide  1599 non-null   float64\n",
      " 8   density               1599 non-null   float64\n",
      " 9   pH                    1599 non-null   float64\n",
      " 10  sulphates             1599 non-null   float64\n",
      " 11  alcohol               1599 non-null   float64\n",
      " 12  quality               1599 non-null   int64  \n",
      " 13  quality_index         1599 non-null   int64  \n",
      "dtypes: float64(11), int64(3)\n",
      "memory usage: 175.0 KB\n"
     ]
    }
   ],
   "source": [
    "df_wine.info()\n",
    "# No missing values and all data is in the right format"
   ]
  },
  {
   "cell_type": "code",
   "execution_count": 6,
   "metadata": {},
   "outputs": [
    {
     "data": {
      "text/html": [
       "<div>\n",
       "<style scoped>\n",
       "    .dataframe tbody tr th:only-of-type {\n",
       "        vertical-align: middle;\n",
       "    }\n",
       "\n",
       "    .dataframe tbody tr th {\n",
       "        vertical-align: top;\n",
       "    }\n",
       "\n",
       "    .dataframe thead th {\n",
       "        text-align: right;\n",
       "    }\n",
       "</style>\n",
       "<table border=\"1\" class=\"dataframe\">\n",
       "  <thead>\n",
       "    <tr style=\"text-align: right;\">\n",
       "      <th></th>\n",
       "      <th>data_number</th>\n",
       "      <th>fixed_acidity</th>\n",
       "      <th>volatile_acidity</th>\n",
       "      <th>citric_acid</th>\n",
       "      <th>residual_sugar</th>\n",
       "      <th>chlorides</th>\n",
       "      <th>free_sulfur_dioxide</th>\n",
       "      <th>total_sulfur_dioxide</th>\n",
       "      <th>density</th>\n",
       "      <th>pH</th>\n",
       "      <th>sulphates</th>\n",
       "      <th>alcohol</th>\n",
       "      <th>quality</th>\n",
       "      <th>quality_index</th>\n",
       "    </tr>\n",
       "  </thead>\n",
       "  <tbody>\n",
       "    <tr>\n",
       "      <th>count</th>\n",
       "      <td>1599.000000</td>\n",
       "      <td>1599.000000</td>\n",
       "      <td>1599.000000</td>\n",
       "      <td>1599.000000</td>\n",
       "      <td>1599.000000</td>\n",
       "      <td>1599.000000</td>\n",
       "      <td>1599.000000</td>\n",
       "      <td>1599.000000</td>\n",
       "      <td>1599.000000</td>\n",
       "      <td>1599.000000</td>\n",
       "      <td>1599.000000</td>\n",
       "      <td>1599.000000</td>\n",
       "      <td>1599.000000</td>\n",
       "      <td>1599.000000</td>\n",
       "    </tr>\n",
       "    <tr>\n",
       "      <th>mean</th>\n",
       "      <td>800.000000</td>\n",
       "      <td>8.154534</td>\n",
       "      <td>0.520547</td>\n",
       "      <td>0.270513</td>\n",
       "      <td>2.181801</td>\n",
       "      <td>0.078710</td>\n",
       "      <td>15.163852</td>\n",
       "      <td>42.825516</td>\n",
       "      <td>0.996243</td>\n",
       "      <td>3.308774</td>\n",
       "      <td>0.636048</td>\n",
       "      <td>10.392798</td>\n",
       "      <td>5.636023</td>\n",
       "      <td>0.135710</td>\n",
       "    </tr>\n",
       "    <tr>\n",
       "      <th>std</th>\n",
       "      <td>461.735855</td>\n",
       "      <td>1.490883</td>\n",
       "      <td>0.165588</td>\n",
       "      <td>0.193945</td>\n",
       "      <td>0.426845</td>\n",
       "      <td>0.015505</td>\n",
       "      <td>9.140986</td>\n",
       "      <td>26.757870</td>\n",
       "      <td>0.002150</td>\n",
       "      <td>0.141596</td>\n",
       "      <td>0.119098</td>\n",
       "      <td>1.017398</td>\n",
       "      <td>0.807569</td>\n",
       "      <td>0.342587</td>\n",
       "    </tr>\n",
       "    <tr>\n",
       "      <th>min</th>\n",
       "      <td>1.000000</td>\n",
       "      <td>4.600000</td>\n",
       "      <td>0.120000</td>\n",
       "      <td>0.000000</td>\n",
       "      <td>0.900000</td>\n",
       "      <td>0.038000</td>\n",
       "      <td>1.000000</td>\n",
       "      <td>6.000000</td>\n",
       "      <td>0.990000</td>\n",
       "      <td>2.920000</td>\n",
       "      <td>0.330000</td>\n",
       "      <td>8.400000</td>\n",
       "      <td>3.000000</td>\n",
       "      <td>0.000000</td>\n",
       "    </tr>\n",
       "    <tr>\n",
       "      <th>25%</th>\n",
       "      <td>400.500000</td>\n",
       "      <td>7.100000</td>\n",
       "      <td>0.390000</td>\n",
       "      <td>0.090000</td>\n",
       "      <td>1.900000</td>\n",
       "      <td>0.070000</td>\n",
       "      <td>7.000000</td>\n",
       "      <td>22.000000</td>\n",
       "      <td>0.995380</td>\n",
       "      <td>3.210000</td>\n",
       "      <td>0.550000</td>\n",
       "      <td>9.500000</td>\n",
       "      <td>5.000000</td>\n",
       "      <td>0.000000</td>\n",
       "    </tr>\n",
       "    <tr>\n",
       "      <th>50%</th>\n",
       "      <td>800.000000</td>\n",
       "      <td>7.900000</td>\n",
       "      <td>0.520000</td>\n",
       "      <td>0.260000</td>\n",
       "      <td>2.200000</td>\n",
       "      <td>0.078000</td>\n",
       "      <td>14.000000</td>\n",
       "      <td>38.000000</td>\n",
       "      <td>0.996550</td>\n",
       "      <td>3.310000</td>\n",
       "      <td>0.620000</td>\n",
       "      <td>10.200000</td>\n",
       "      <td>6.000000</td>\n",
       "      <td>0.000000</td>\n",
       "    </tr>\n",
       "    <tr>\n",
       "      <th>75%</th>\n",
       "      <td>1199.500000</td>\n",
       "      <td>9.000000</td>\n",
       "      <td>0.630000</td>\n",
       "      <td>0.420000</td>\n",
       "      <td>2.400000</td>\n",
       "      <td>0.087000</td>\n",
       "      <td>21.000000</td>\n",
       "      <td>58.000000</td>\n",
       "      <td>0.997600</td>\n",
       "      <td>3.400000</td>\n",
       "      <td>0.710000</td>\n",
       "      <td>11.000000</td>\n",
       "      <td>6.000000</td>\n",
       "      <td>0.000000</td>\n",
       "    </tr>\n",
       "    <tr>\n",
       "      <th>max</th>\n",
       "      <td>1599.000000</td>\n",
       "      <td>12.300000</td>\n",
       "      <td>1.010000</td>\n",
       "      <td>0.790000</td>\n",
       "      <td>3.650000</td>\n",
       "      <td>0.124000</td>\n",
       "      <td>42.000000</td>\n",
       "      <td>122.000000</td>\n",
       "      <td>1.000000</td>\n",
       "      <td>3.690000</td>\n",
       "      <td>1.000000</td>\n",
       "      <td>13.500000</td>\n",
       "      <td>8.000000</td>\n",
       "      <td>1.000000</td>\n",
       "    </tr>\n",
       "  </tbody>\n",
       "</table>\n",
       "</div>"
      ],
      "text/plain": [
       "       data_number  fixed_acidity  volatile_acidity  citric_acid  \\\n",
       "count  1599.000000    1599.000000       1599.000000  1599.000000   \n",
       "mean    800.000000       8.154534          0.520547     0.270513   \n",
       "std     461.735855       1.490883          0.165588     0.193945   \n",
       "min       1.000000       4.600000          0.120000     0.000000   \n",
       "25%     400.500000       7.100000          0.390000     0.090000   \n",
       "50%     800.000000       7.900000          0.520000     0.260000   \n",
       "75%    1199.500000       9.000000          0.630000     0.420000   \n",
       "max    1599.000000      12.300000          1.010000     0.790000   \n",
       "\n",
       "       residual_sugar    chlorides  free_sulfur_dioxide  total_sulfur_dioxide  \\\n",
       "count     1599.000000  1599.000000          1599.000000           1599.000000   \n",
       "mean         2.181801     0.078710            15.163852             42.825516   \n",
       "std          0.426845     0.015505             9.140986             26.757870   \n",
       "min          0.900000     0.038000             1.000000              6.000000   \n",
       "25%          1.900000     0.070000             7.000000             22.000000   \n",
       "50%          2.200000     0.078000            14.000000             38.000000   \n",
       "75%          2.400000     0.087000            21.000000             58.000000   \n",
       "max          3.650000     0.124000            42.000000            122.000000   \n",
       "\n",
       "           density           pH    sulphates      alcohol      quality  \\\n",
       "count  1599.000000  1599.000000  1599.000000  1599.000000  1599.000000   \n",
       "mean      0.996243     3.308774     0.636048    10.392798     5.636023   \n",
       "std       0.002150     0.141596     0.119098     1.017398     0.807569   \n",
       "min       0.990000     2.920000     0.330000     8.400000     3.000000   \n",
       "25%       0.995380     3.210000     0.550000     9.500000     5.000000   \n",
       "50%       0.996550     3.310000     0.620000    10.200000     6.000000   \n",
       "75%       0.997600     3.400000     0.710000    11.000000     6.000000   \n",
       "max       1.000000     3.690000     1.000000    13.500000     8.000000   \n",
       "\n",
       "       quality_index  \n",
       "count    1599.000000  \n",
       "mean        0.135710  \n",
       "std         0.342587  \n",
       "min         0.000000  \n",
       "25%         0.000000  \n",
       "50%         0.000000  \n",
       "75%         0.000000  \n",
       "max         1.000000  "
      ]
     },
     "execution_count": 6,
     "metadata": {},
     "output_type": "execute_result"
    }
   ],
   "source": [
    "df_wine.describe()\n",
    "# All datapoints will need to delete outliers"
   ]
  },
  {
   "cell_type": "code",
   "execution_count": 7,
   "metadata": {},
   "outputs": [
    {
     "data": {
      "text/plain": [
       "(1599, 14)"
      ]
     },
     "execution_count": 7,
     "metadata": {},
     "output_type": "execute_result"
    }
   ],
   "source": [
    "df_wine.shape"
   ]
  },
  {
   "cell_type": "code",
   "execution_count": 8,
   "metadata": {},
   "outputs": [
    {
     "data": {
      "text/plain": [
       "array([[<matplotlib.axes._subplots.AxesSubplot object at 0x000002267399B088>]],\n",
       "      dtype=object)"
      ]
     },
     "execution_count": 8,
     "metadata": {},
     "output_type": "execute_result"
    },
    {
     "data": {
      "image/png": "[encoded data removed]",
      "text/plain": [
       "<Figure size 432x288 with 1 Axes>"
      ]
     },
     "metadata": {
      "needs_background": "light"
     },
     "output_type": "display_data"
    },
    {
     "data": {
      "image/png": "[encoded data removed]",
      "text/plain": [
       "<Figure size 432x288 with 1 Axes>"
      ]
     },
     "metadata": {
      "needs_background": "light"
     },
     "output_type": "display_data"
    },
    {
     "data": {
      "image/png": "[encoded data removed]",
      "text/plain": [
       "<Figure size 432x288 with 1 Axes>"
      ]
     },
     "metadata": {
      "needs_background": "light"
     },
     "output_type": "display_data"
    },
    {
     "data": {
      "image/png": "[encoded data removed]",
      "text/plain": [
       "<Figure size 432x288 with 1 Axes>"
      ]
     },
     "metadata": {
      "needs_background": "light"
     },
     "output_type": "display_data"
    },
    {
     "data": {
      "image/png": "[encoded data removed]",
      "text/plain": [
       "<Figure size 432x288 with 1 Axes>"
      ]
     },
     "metadata": {
      "needs_background": "light"
     },
     "output_type": "display_data"
    },
    {
     "data": {
      "image/png": "[encoded data removed]",
      "text/plain": [
       "<Figure size 432x288 with 1 Axes>"
      ]
     },
     "metadata": {
      "needs_background": "light"
     },
     "output_type": "display_data"
    },
    {
     "data": {
      "image/png": "[encoded data removed]",
      "text/plain": [
       "<Figure size 432x288 with 1 Axes>"
      ]
     },
     "metadata": {
      "needs_background": "light"
     },
     "output_type": "display_data"
    },
    {
     "data": {
      "image/png": "[encoded data removed]",
      "text/plain": [
       "<Figure size 432x288 with 1 Axes>"
      ]
     },
     "metadata": {
      "needs_background": "light"
     },
     "output_type": "display_data"
    },
    {
     "data": {
      "image/png": "[encoded data removed]",
      "text/plain": [
       "<Figure size 432x288 with 1 Axes>"
      ]
     },
     "metadata": {
      "needs_background": "light"
     },
     "output_type": "display_data"
    },
    {
     "data": {
      "image/png": "[encoded data removed]",
      "text/plain": [
       "<Figure size 432x288 with 1 Axes>"
      ]
     },
     "metadata": {
      "needs_background": "light"
     },
     "output_type": "display_data"
    },
    {
     "data": {
      "image/png": "[encoded data removed]",
      "text/plain": [
       "<Figure size 432x288 with 1 Axes>"
      ]
     },
     "metadata": {
      "needs_background": "light"
     },
     "output_type": "display_data"
    },
    {
     "data": {
      "image/png": "[encoded data removed]",
      "text/plain": [
       "<Figure size 432x288 with 1 Axes>"
      ]
     },
     "metadata": {
      "needs_background": "light"
     },
     "output_type": "display_data"
    }
   ],
   "source": [
    "df_wine.hist(column='fixed_acidity')\n",
    "df_wine.hist(column='volatile_acidity')\n",
    "df_wine.hist(column='citric_acid')\n",
    "df_wine.hist(column='residual_sugar')\n",
    "df_wine.hist(column='chlorides')\n",
    "df_wine.hist(column='free_sulfur_dioxide')\n",
    "df_wine.hist(column='total_sulfur_dioxide')\n",
    "df_wine.hist(column='density')\n",
    "df_wine.hist(column='pH')\n",
    "df_wine.hist(column='sulphates')\n",
    "df_wine.hist(column='alcohol')\n",
    "df_wine.hist(column='quality')"
   ]
  },
  {
   "cell_type": "markdown",
   "metadata": {},
   "source": [
    "### Initial Data Collection Report\n",
    "#### All data is in the right type and there are no null values, however, there is a lot of distance between the mean and max, suggesting that there are outliers. Further exploration into outliers will be required. The most important variable in the dataset is \"quality\" because this variable will be used to measure customer satisfaction, as well as set the base for modeling. "
   ]
  },
  {
   "cell_type": "markdown",
   "metadata": {},
   "source": [
    "### Data Description Report\n",
    "#### Data descriptions can be found in the .info cell. All data is in the correct format and there are no null values."
   ]
  },
  {
   "cell_type": "markdown",
   "metadata": {},
   "source": [
    "## Data Preparation "
   ]
  },
  {
   "cell_type": "markdown",
   "metadata": {},
   "source": [
    "### Data Cleaning"
   ]
  },
  {
   "cell_type": "code",
   "execution_count": 9,
   "metadata": {},
   "outputs": [
    {
     "name": "stdout",
     "output_type": "stream",
     "text": [
      "data_number             799.00000\n",
      "fixed_acidity             1.90000\n",
      "volatile_acidity          0.24000\n",
      "citric_acid               0.33000\n",
      "residual_sugar            0.50000\n",
      "chlorides                 0.01700\n",
      "free_sulfur_dioxide      14.00000\n",
      "total_sulfur_dioxide     36.00000\n",
      "density                   0.00222\n",
      "pH                        0.19000\n",
      "sulphates                 0.16000\n",
      "alcohol                   1.50000\n",
      "quality                   1.00000\n",
      "quality_index             0.00000\n",
      "dtype: float64\n"
     ]
    }
   ],
   "source": [
    "Q1 = df_wine.quantile(0.25)\n",
    "Q3 = df_wine.quantile(0.75)\n",
    "IQR = Q3 - Q1\n",
    "\n",
    "lower_limit = Q1 - 1.5*IQR \n",
    "upper_limit = Q3 + 1.5*IQR\n",
    "\n",
    "print(IQR)\n",
    "\n",
    "#Establishing IQR for each column "
   ]
  },
  {
   "cell_type": "code",
   "execution_count": 10,
   "metadata": {
    "scrolled": true
   },
   "outputs": [
    {
     "data": {
      "text/plain": [
       "(data_number            -798.00000\n",
       " fixed_acidity             4.25000\n",
       " volatile_acidity          0.03000\n",
       " citric_acid              -0.40500\n",
       " residual_sugar            1.15000\n",
       " chlorides                 0.04450\n",
       " free_sulfur_dioxide     -14.00000\n",
       " total_sulfur_dioxide    -32.00000\n",
       " density                   0.99205\n",
       " pH                        2.92500\n",
       " sulphates                 0.31000\n",
       " alcohol                   7.25000\n",
       " quality                   3.50000\n",
       " quality_index             0.00000\n",
       " dtype: float64,\n",
       " data_number             2398.00000\n",
       " fixed_acidity             11.85000\n",
       " volatile_acidity           0.99000\n",
       " citric_acid                0.91500\n",
       " residual_sugar             3.15000\n",
       " chlorides                  0.11250\n",
       " free_sulfur_dioxide       42.00000\n",
       " total_sulfur_dioxide     112.00000\n",
       " density                    1.00093\n",
       " pH                         3.68500\n",
       " sulphates                  0.95000\n",
       " alcohol                   13.25000\n",
       " quality                    7.50000\n",
       " quality_index              0.00000\n",
       " dtype: float64)"
      ]
     },
     "execution_count": 10,
     "metadata": {},
     "output_type": "execute_result"
    }
   ],
   "source": [
    "lower_limit,upper_limit\n",
    "\n",
    "#Finding upper and lower limit to clean in Excel"
   ]
  },
  {
   "cell_type": "code",
   "execution_count": 11,
   "metadata": {
    "scrolled": false
   },
   "outputs": [
    {
     "data": {
      "text/html": [
       "<div>\n",
       "<style scoped>\n",
       "    .dataframe tbody tr th:only-of-type {\n",
       "        vertical-align: middle;\n",
       "    }\n",
       "\n",
       "    .dataframe tbody tr th {\n",
       "        vertical-align: top;\n",
       "    }\n",
       "\n",
       "    .dataframe thead th {\n",
       "        text-align: right;\n",
       "    }\n",
       "</style>\n",
       "<table border=\"1\" class=\"dataframe\">\n",
       "  <thead>\n",
       "    <tr style=\"text-align: right;\">\n",
       "      <th></th>\n",
       "      <th>data_number</th>\n",
       "      <th>fixed_acidity</th>\n",
       "      <th>volatile_acidity</th>\n",
       "      <th>citric_acid</th>\n",
       "      <th>residual_sugar</th>\n",
       "      <th>chlorides</th>\n",
       "      <th>free_sulfur_dioxide</th>\n",
       "      <th>total_sulfur_dioxide</th>\n",
       "      <th>density</th>\n",
       "      <th>pH</th>\n",
       "      <th>sulphates</th>\n",
       "      <th>alcohol</th>\n",
       "      <th>quality</th>\n",
       "      <th>quality_index</th>\n",
       "    </tr>\n",
       "  </thead>\n",
       "  <tbody>\n",
       "    <tr>\n",
       "      <th>count</th>\n",
       "      <td>1599.000000</td>\n",
       "      <td>1599.000000</td>\n",
       "      <td>1599.000000</td>\n",
       "      <td>1599.000000</td>\n",
       "      <td>1599.000000</td>\n",
       "      <td>1599.000000</td>\n",
       "      <td>1599.000000</td>\n",
       "      <td>1599.000000</td>\n",
       "      <td>1599.000000</td>\n",
       "      <td>1599.000000</td>\n",
       "      <td>1599.000000</td>\n",
       "      <td>1599.000000</td>\n",
       "      <td>1599.000000</td>\n",
       "      <td>1599.000000</td>\n",
       "    </tr>\n",
       "    <tr>\n",
       "      <th>mean</th>\n",
       "      <td>800.000000</td>\n",
       "      <td>8.154534</td>\n",
       "      <td>0.520547</td>\n",
       "      <td>0.270513</td>\n",
       "      <td>2.181801</td>\n",
       "      <td>0.078710</td>\n",
       "      <td>15.163852</td>\n",
       "      <td>42.825516</td>\n",
       "      <td>0.996243</td>\n",
       "      <td>3.308774</td>\n",
       "      <td>0.636048</td>\n",
       "      <td>10.392798</td>\n",
       "      <td>5.636023</td>\n",
       "      <td>0.135710</td>\n",
       "    </tr>\n",
       "    <tr>\n",
       "      <th>std</th>\n",
       "      <td>461.735855</td>\n",
       "      <td>1.490883</td>\n",
       "      <td>0.165588</td>\n",
       "      <td>0.193945</td>\n",
       "      <td>0.426845</td>\n",
       "      <td>0.015505</td>\n",
       "      <td>9.140986</td>\n",
       "      <td>26.757870</td>\n",
       "      <td>0.002150</td>\n",
       "      <td>0.141596</td>\n",
       "      <td>0.119098</td>\n",
       "      <td>1.017398</td>\n",
       "      <td>0.807569</td>\n",
       "      <td>0.342587</td>\n",
       "    </tr>\n",
       "    <tr>\n",
       "      <th>min</th>\n",
       "      <td>1.000000</td>\n",
       "      <td>4.600000</td>\n",
       "      <td>0.120000</td>\n",
       "      <td>0.000000</td>\n",
       "      <td>0.900000</td>\n",
       "      <td>0.038000</td>\n",
       "      <td>1.000000</td>\n",
       "      <td>6.000000</td>\n",
       "      <td>0.990000</td>\n",
       "      <td>2.920000</td>\n",
       "      <td>0.330000</td>\n",
       "      <td>8.400000</td>\n",
       "      <td>3.000000</td>\n",
       "      <td>0.000000</td>\n",
       "    </tr>\n",
       "    <tr>\n",
       "      <th>25%</th>\n",
       "      <td>400.500000</td>\n",
       "      <td>7.100000</td>\n",
       "      <td>0.390000</td>\n",
       "      <td>0.090000</td>\n",
       "      <td>1.900000</td>\n",
       "      <td>0.070000</td>\n",
       "      <td>7.000000</td>\n",
       "      <td>22.000000</td>\n",
       "      <td>0.995380</td>\n",
       "      <td>3.210000</td>\n",
       "      <td>0.550000</td>\n",
       "      <td>9.500000</td>\n",
       "      <td>5.000000</td>\n",
       "      <td>0.000000</td>\n",
       "    </tr>\n",
       "    <tr>\n",
       "      <th>50%</th>\n",
       "      <td>800.000000</td>\n",
       "      <td>7.900000</td>\n",
       "      <td>0.520000</td>\n",
       "      <td>0.260000</td>\n",
       "      <td>2.200000</td>\n",
       "      <td>0.078000</td>\n",
       "      <td>14.000000</td>\n",
       "      <td>38.000000</td>\n",
       "      <td>0.996550</td>\n",
       "      <td>3.310000</td>\n",
       "      <td>0.620000</td>\n",
       "      <td>10.200000</td>\n",
       "      <td>6.000000</td>\n",
       "      <td>0.000000</td>\n",
       "    </tr>\n",
       "    <tr>\n",
       "      <th>75%</th>\n",
       "      <td>1199.500000</td>\n",
       "      <td>9.000000</td>\n",
       "      <td>0.630000</td>\n",
       "      <td>0.420000</td>\n",
       "      <td>2.400000</td>\n",
       "      <td>0.087000</td>\n",
       "      <td>21.000000</td>\n",
       "      <td>58.000000</td>\n",
       "      <td>0.997600</td>\n",
       "      <td>3.400000</td>\n",
       "      <td>0.710000</td>\n",
       "      <td>11.000000</td>\n",
       "      <td>6.000000</td>\n",
       "      <td>0.000000</td>\n",
       "    </tr>\n",
       "    <tr>\n",
       "      <th>max</th>\n",
       "      <td>1599.000000</td>\n",
       "      <td>12.300000</td>\n",
       "      <td>1.010000</td>\n",
       "      <td>0.790000</td>\n",
       "      <td>3.650000</td>\n",
       "      <td>0.124000</td>\n",
       "      <td>42.000000</td>\n",
       "      <td>122.000000</td>\n",
       "      <td>1.000000</td>\n",
       "      <td>3.690000</td>\n",
       "      <td>1.000000</td>\n",
       "      <td>13.500000</td>\n",
       "      <td>8.000000</td>\n",
       "      <td>1.000000</td>\n",
       "    </tr>\n",
       "  </tbody>\n",
       "</table>\n",
       "</div>"
      ],
      "text/plain": [
       "       data_number  fixed_acidity  volatile_acidity  citric_acid  \\\n",
       "count  1599.000000    1599.000000       1599.000000  1599.000000   \n",
       "mean    800.000000       8.154534          0.520547     0.270513   \n",
       "std     461.735855       1.490883          0.165588     0.193945   \n",
       "min       1.000000       4.600000          0.120000     0.000000   \n",
       "25%     400.500000       7.100000          0.390000     0.090000   \n",
       "50%     800.000000       7.900000          0.520000     0.260000   \n",
       "75%    1199.500000       9.000000          0.630000     0.420000   \n",
       "max    1599.000000      12.300000          1.010000     0.790000   \n",
       "\n",
       "       residual_sugar    chlorides  free_sulfur_dioxide  total_sulfur_dioxide  \\\n",
       "count     1599.000000  1599.000000          1599.000000           1599.000000   \n",
       "mean         2.181801     0.078710            15.163852             42.825516   \n",
       "std          0.426845     0.015505             9.140986             26.757870   \n",
       "min          0.900000     0.038000             1.000000              6.000000   \n",
       "25%          1.900000     0.070000             7.000000             22.000000   \n",
       "50%          2.200000     0.078000            14.000000             38.000000   \n",
       "75%          2.400000     0.087000            21.000000             58.000000   \n",
       "max          3.650000     0.124000            42.000000            122.000000   \n",
       "\n",
       "           density           pH    sulphates      alcohol      quality  \\\n",
       "count  1599.000000  1599.000000  1599.000000  1599.000000  1599.000000   \n",
       "mean      0.996243     3.308774     0.636048    10.392798     5.636023   \n",
       "std       0.002150     0.141596     0.119098     1.017398     0.807569   \n",
       "min       0.990000     2.920000     0.330000     8.400000     3.000000   \n",
       "25%       0.995380     3.210000     0.550000     9.500000     5.000000   \n",
       "50%       0.996550     3.310000     0.620000    10.200000     6.000000   \n",
       "75%       0.997600     3.400000     0.710000    11.000000     6.000000   \n",
       "max       1.000000     3.690000     1.000000    13.500000     8.000000   \n",
       "\n",
       "       quality_index  \n",
       "count    1599.000000  \n",
       "mean        0.135710  \n",
       "std         0.342587  \n",
       "min         0.000000  \n",
       "25%         0.000000  \n",
       "50%         0.000000  \n",
       "75%         0.000000  \n",
       "max         1.000000  "
      ]
     },
     "execution_count": 11,
     "metadata": {},
     "output_type": "execute_result"
    }
   ],
   "source": [
    "df_wine.describe()\n",
    "\n",
    "# Outliers cleaned in Excel"
   ]
  },
  {
   "cell_type": "markdown",
   "metadata": {},
   "source": [
    "### Construct Data"
   ]
  },
  {
   "cell_type": "code",
   "execution_count": 12,
   "metadata": {},
   "outputs": [
    {
     "data": {
      "text/plain": [
       "5    681\n",
       "6    638\n",
       "7    199\n",
       "4     53\n",
       "8     18\n",
       "3     10\n",
       "Name: quality, dtype: int64"
      ]
     },
     "execution_count": 12,
     "metadata": {},
     "output_type": "execute_result"
    }
   ],
   "source": [
    "df_wine['quality'].value_counts(ascending=False)\n",
    "\n",
    "# Setting quality index \n",
    "\n",
    "# 1-3 = Bad \n",
    "# 4-6 = Okay\n",
    "# 7-9 = Great\n",
    "# 10 = Perfect(Theoretical)"
   ]
  },
  {
   "cell_type": "code",
   "execution_count": 13,
   "metadata": {},
   "outputs": [
    {
     "data": {
      "text/plain": [
       "<matplotlib.axes._subplots.AxesSubplot at 0x22673cef0c8>"
      ]
     },
     "execution_count": 13,
     "metadata": {},
     "output_type": "execute_result"
    },
    {
     "data": {
      "image/png": "[encoded data removed]",
      "text/plain": [
       "<Figure size 432x288 with 1 Axes>"
      ]
     },
     "metadata": {
      "needs_background": "light"
     },
     "output_type": "display_data"
    }
   ],
   "source": [
    "sns.countplot(df_wine['quality_index'])\n",
    "\n",
    "# Quality index created in Excel using above criteria"
   ]
  },
  {
   "cell_type": "code",
   "execution_count": 14,
   "metadata": {},
   "outputs": [
    {
     "data": {
      "text/html": [
       "<div>\n",
       "<style scoped>\n",
       "    .dataframe tbody tr th:only-of-type {\n",
       "        vertical-align: middle;\n",
       "    }\n",
       "\n",
       "    .dataframe tbody tr th {\n",
       "        vertical-align: top;\n",
       "    }\n",
       "\n",
       "    .dataframe thead th {\n",
       "        text-align: right;\n",
       "    }\n",
       "</style>\n",
       "<table border=\"1\" class=\"dataframe\">\n",
       "  <thead>\n",
       "    <tr style=\"text-align: right;\">\n",
       "      <th></th>\n",
       "      <th>data_number</th>\n",
       "      <th>fixed_acidity</th>\n",
       "      <th>volatile_acidity</th>\n",
       "      <th>citric_acid</th>\n",
       "      <th>residual_sugar</th>\n",
       "      <th>chlorides</th>\n",
       "      <th>free_sulfur_dioxide</th>\n",
       "      <th>total_sulfur_dioxide</th>\n",
       "      <th>density</th>\n",
       "      <th>pH</th>\n",
       "      <th>sulphates</th>\n",
       "      <th>alcohol</th>\n",
       "      <th>quality</th>\n",
       "      <th>quality_index</th>\n",
       "    </tr>\n",
       "  </thead>\n",
       "  <tbody>\n",
       "    <tr>\n",
       "      <th>data_number</th>\n",
       "      <td>1.000000</td>\n",
       "      <td>-0.236731</td>\n",
       "      <td>0.006426</td>\n",
       "      <td>-0.150878</td>\n",
       "      <td>-0.143013</td>\n",
       "      <td>-0.185546</td>\n",
       "      <td>0.077889</td>\n",
       "      <td>-0.091537</td>\n",
       "      <td>-0.204198</td>\n",
       "      <td>0.138473</td>\n",
       "      <td>-0.058784</td>\n",
       "      <td>0.251208</td>\n",
       "      <td>0.066453</td>\n",
       "      <td>0.027225</td>\n",
       "    </tr>\n",
       "    <tr>\n",
       "      <th>fixed_acidity</th>\n",
       "      <td>-0.236731</td>\n",
       "      <td>1.000000</td>\n",
       "      <td>-0.258476</td>\n",
       "      <td>0.608682</td>\n",
       "      <td>0.225436</td>\n",
       "      <td>0.217579</td>\n",
       "      <td>-0.145813</td>\n",
       "      <td>-0.113789</td>\n",
       "      <td>0.289083</td>\n",
       "      <td>-0.595286</td>\n",
       "      <td>0.175426</td>\n",
       "      <td>-0.048917</td>\n",
       "      <td>0.109637</td>\n",
       "      <td>0.109124</td>\n",
       "    </tr>\n",
       "    <tr>\n",
       "      <th>volatile_acidity</th>\n",
       "      <td>0.006426</td>\n",
       "      <td>-0.258476</td>\n",
       "      <td>1.000000</td>\n",
       "      <td>-0.564257</td>\n",
       "      <td>0.018550</td>\n",
       "      <td>0.135295</td>\n",
       "      <td>0.004853</td>\n",
       "      <td>0.090253</td>\n",
       "      <td>0.054035</td>\n",
       "      <td>0.220002</td>\n",
       "      <td>-0.314998</td>\n",
       "      <td>-0.214283</td>\n",
       "      <td>-0.356247</td>\n",
       "      <td>-0.275326</td>\n",
       "    </tr>\n",
       "    <tr>\n",
       "      <th>citric_acid</th>\n",
       "      <td>-0.150878</td>\n",
       "      <td>0.608682</td>\n",
       "      <td>-0.564257</td>\n",
       "      <td>1.000000</td>\n",
       "      <td>0.156708</td>\n",
       "      <td>0.076555</td>\n",
       "      <td>-0.060658</td>\n",
       "      <td>-0.010996</td>\n",
       "      <td>0.090736</td>\n",
       "      <td>-0.534443</td>\n",
       "      <td>0.280341</td>\n",
       "      <td>0.129530</td>\n",
       "      <td>0.232209</td>\n",
       "      <td>0.216609</td>\n",
       "    </tr>\n",
       "    <tr>\n",
       "      <th>residual_sugar</th>\n",
       "      <td>-0.143013</td>\n",
       "      <td>0.225436</td>\n",
       "      <td>0.018550</td>\n",
       "      <td>0.156708</td>\n",
       "      <td>1.000000</td>\n",
       "      <td>0.244116</td>\n",
       "      <td>0.040756</td>\n",
       "      <td>0.126300</td>\n",
       "      <td>0.147112</td>\n",
       "      <td>-0.056554</td>\n",
       "      <td>0.066669</td>\n",
       "      <td>0.082817</td>\n",
       "      <td>0.035506</td>\n",
       "      <td>0.034873</td>\n",
       "    </tr>\n",
       "    <tr>\n",
       "      <th>chlorides</th>\n",
       "      <td>-0.185546</td>\n",
       "      <td>0.217579</td>\n",
       "      <td>0.135295</td>\n",
       "      <td>0.076555</td>\n",
       "      <td>0.244116</td>\n",
       "      <td>1.000000</td>\n",
       "      <td>0.000860</td>\n",
       "      <td>0.076224</td>\n",
       "      <td>0.213287</td>\n",
       "      <td>-0.160174</td>\n",
       "      <td>-0.055834</td>\n",
       "      <td>-0.215150</td>\n",
       "      <td>-0.145858</td>\n",
       "      <td>-0.124425</td>\n",
       "    </tr>\n",
       "    <tr>\n",
       "      <th>free_sulfur_dioxide</th>\n",
       "      <td>0.077889</td>\n",
       "      <td>-0.145813</td>\n",
       "      <td>0.004853</td>\n",
       "      <td>-0.060658</td>\n",
       "      <td>0.040756</td>\n",
       "      <td>0.000860</td>\n",
       "      <td>1.000000</td>\n",
       "      <td>0.596640</td>\n",
       "      <td>-0.039425</td>\n",
       "      <td>0.081609</td>\n",
       "      <td>0.027816</td>\n",
       "      <td>-0.074064</td>\n",
       "      <td>-0.047187</td>\n",
       "      <td>-0.079443</td>\n",
       "    </tr>\n",
       "    <tr>\n",
       "      <th>total_sulfur_dioxide</th>\n",
       "      <td>-0.091537</td>\n",
       "      <td>-0.113789</td>\n",
       "      <td>0.090253</td>\n",
       "      <td>-0.010996</td>\n",
       "      <td>0.126300</td>\n",
       "      <td>0.076224</td>\n",
       "      <td>0.596640</td>\n",
       "      <td>1.000000</td>\n",
       "      <td>0.023851</td>\n",
       "      <td>0.001375</td>\n",
       "      <td>-0.030985</td>\n",
       "      <td>-0.234335</td>\n",
       "      <td>-0.168010</td>\n",
       "      <td>-0.151081</td>\n",
       "    </tr>\n",
       "    <tr>\n",
       "      <th>density</th>\n",
       "      <td>-0.204198</td>\n",
       "      <td>0.289083</td>\n",
       "      <td>0.054035</td>\n",
       "      <td>0.090736</td>\n",
       "      <td>0.147112</td>\n",
       "      <td>0.213287</td>\n",
       "      <td>-0.039425</td>\n",
       "      <td>0.023851</td>\n",
       "      <td>1.000000</td>\n",
       "      <td>-0.081321</td>\n",
       "      <td>0.011986</td>\n",
       "      <td>-0.355096</td>\n",
       "      <td>-0.149708</td>\n",
       "      <td>-0.133039</td>\n",
       "    </tr>\n",
       "    <tr>\n",
       "      <th>pH</th>\n",
       "      <td>0.138473</td>\n",
       "      <td>-0.595286</td>\n",
       "      <td>0.220002</td>\n",
       "      <td>-0.534443</td>\n",
       "      <td>-0.056554</td>\n",
       "      <td>-0.160174</td>\n",
       "      <td>0.081609</td>\n",
       "      <td>0.001375</td>\n",
       "      <td>-0.081321</td>\n",
       "      <td>1.000000</td>\n",
       "      <td>-0.018103</td>\n",
       "      <td>0.128312</td>\n",
       "      <td>-0.074391</td>\n",
       "      <td>-0.077195</td>\n",
       "    </tr>\n",
       "    <tr>\n",
       "      <th>sulphates</th>\n",
       "      <td>-0.058784</td>\n",
       "      <td>0.175426</td>\n",
       "      <td>-0.314998</td>\n",
       "      <td>0.280341</td>\n",
       "      <td>0.066669</td>\n",
       "      <td>-0.055834</td>\n",
       "      <td>0.027816</td>\n",
       "      <td>-0.030985</td>\n",
       "      <td>0.011986</td>\n",
       "      <td>-0.018103</td>\n",
       "      <td>1.000000</td>\n",
       "      <td>0.213374</td>\n",
       "      <td>0.385502</td>\n",
       "      <td>0.284778</td>\n",
       "    </tr>\n",
       "    <tr>\n",
       "      <th>alcohol</th>\n",
       "      <td>0.251208</td>\n",
       "      <td>-0.048917</td>\n",
       "      <td>-0.214283</td>\n",
       "      <td>0.129530</td>\n",
       "      <td>0.082817</td>\n",
       "      <td>-0.215150</td>\n",
       "      <td>-0.074064</td>\n",
       "      <td>-0.234335</td>\n",
       "      <td>-0.355096</td>\n",
       "      <td>0.128312</td>\n",
       "      <td>0.213374</td>\n",
       "      <td>1.000000</td>\n",
       "      <td>0.464152</td>\n",
       "      <td>0.393575</td>\n",
       "    </tr>\n",
       "    <tr>\n",
       "      <th>quality</th>\n",
       "      <td>0.066453</td>\n",
       "      <td>0.109637</td>\n",
       "      <td>-0.356247</td>\n",
       "      <td>0.232209</td>\n",
       "      <td>0.035506</td>\n",
       "      <td>-0.145858</td>\n",
       "      <td>-0.047187</td>\n",
       "      <td>-0.168010</td>\n",
       "      <td>-0.149708</td>\n",
       "      <td>-0.074391</td>\n",
       "      <td>0.385502</td>\n",
       "      <td>0.464152</td>\n",
       "      <td>1.000000</td>\n",
       "      <td>0.710196</td>\n",
       "    </tr>\n",
       "    <tr>\n",
       "      <th>quality_index</th>\n",
       "      <td>0.027225</td>\n",
       "      <td>0.109124</td>\n",
       "      <td>-0.275326</td>\n",
       "      <td>0.216609</td>\n",
       "      <td>0.034873</td>\n",
       "      <td>-0.124425</td>\n",
       "      <td>-0.079443</td>\n",
       "      <td>-0.151081</td>\n",
       "      <td>-0.133039</td>\n",
       "      <td>-0.077195</td>\n",
       "      <td>0.284778</td>\n",
       "      <td>0.393575</td>\n",
       "      <td>0.710196</td>\n",
       "      <td>1.000000</td>\n",
       "    </tr>\n",
       "  </tbody>\n",
       "</table>\n",
       "</div>"
      ],
      "text/plain": [
       "                      data_number  fixed_acidity  volatile_acidity  \\\n",
       "data_number              1.000000      -0.236731          0.006426   \n",
       "fixed_acidity           -0.236731       1.000000         -0.258476   \n",
       "volatile_acidity         0.006426      -0.258476          1.000000   \n",
       "citric_acid             -0.150878       0.608682         -0.564257   \n",
       "residual_sugar          -0.143013       0.225436          0.018550   \n",
       "chlorides               -0.185546       0.217579          0.135295   \n",
       "free_sulfur_dioxide      0.077889      -0.145813          0.004853   \n",
       "total_sulfur_dioxide    -0.091537      -0.113789          0.090253   \n",
       "density                 -0.204198       0.289083          0.054035   \n",
       "pH                       0.138473      -0.595286          0.220002   \n",
       "sulphates               -0.058784       0.175426         -0.314998   \n",
       "alcohol                  0.251208      -0.048917         -0.214283   \n",
       "quality                  0.066453       0.109637         -0.356247   \n",
       "quality_index            0.027225       0.109124         -0.275326   \n",
       "\n",
       "                      citric_acid  residual_sugar  chlorides  \\\n",
       "data_number             -0.150878       -0.143013  -0.185546   \n",
       "fixed_acidity            0.608682        0.225436   0.217579   \n",
       "volatile_acidity        -0.564257        0.018550   0.135295   \n",
       "citric_acid              1.000000        0.156708   0.076555   \n",
       "residual_sugar           0.156708        1.000000   0.244116   \n",
       "chlorides                0.076555        0.244116   1.000000   \n",
       "free_sulfur_dioxide     -0.060658        0.040756   0.000860   \n",
       "total_sulfur_dioxide    -0.010996        0.126300   0.076224   \n",
       "density                  0.090736        0.147112   0.213287   \n",
       "pH                      -0.534443       -0.056554  -0.160174   \n",
       "sulphates                0.280341        0.066669  -0.055834   \n",
       "alcohol                  0.129530        0.082817  -0.215150   \n",
       "quality                  0.232209        0.035506  -0.145858   \n",
       "quality_index            0.216609        0.034873  -0.124425   \n",
       "\n",
       "                      free_sulfur_dioxide  total_sulfur_dioxide   density  \\\n",
       "data_number                      0.077889             -0.091537 -0.204198   \n",
       "fixed_acidity                   -0.145813             -0.113789  0.289083   \n",
       "volatile_acidity                 0.004853              0.090253  0.054035   \n",
       "citric_acid                     -0.060658             -0.010996  0.090736   \n",
       "residual_sugar                   0.040756              0.126300  0.147112   \n",
       "chlorides                        0.000860              0.076224  0.213287   \n",
       "free_sulfur_dioxide              1.000000              0.596640 -0.039425   \n",
       "total_sulfur_dioxide             0.596640              1.000000  0.023851   \n",
       "density                         -0.039425              0.023851  1.000000   \n",
       "pH                               0.081609              0.001375 -0.081321   \n",
       "sulphates                        0.027816             -0.030985  0.011986   \n",
       "alcohol                         -0.074064             -0.234335 -0.355096   \n",
       "quality                         -0.047187             -0.168010 -0.149708   \n",
       "quality_index                   -0.079443             -0.151081 -0.133039   \n",
       "\n",
       "                            pH  sulphates   alcohol   quality  quality_index  \n",
       "data_number           0.138473  -0.058784  0.251208  0.066453       0.027225  \n",
       "fixed_acidity        -0.595286   0.175426 -0.048917  0.109637       0.109124  \n",
       "volatile_acidity      0.220002  -0.314998 -0.214283 -0.356247      -0.275326  \n",
       "citric_acid          -0.534443   0.280341  0.129530  0.232209       0.216609  \n",
       "residual_sugar       -0.056554   0.066669  0.082817  0.035506       0.034873  \n",
       "chlorides            -0.160174  -0.055834 -0.215150 -0.145858      -0.124425  \n",
       "free_sulfur_dioxide   0.081609   0.027816 -0.074064 -0.047187      -0.079443  \n",
       "total_sulfur_dioxide  0.001375  -0.030985 -0.234335 -0.168010      -0.151081  \n",
       "density              -0.081321   0.011986 -0.355096 -0.149708      -0.133039  \n",
       "pH                    1.000000  -0.018103  0.128312 -0.074391      -0.077195  \n",
       "sulphates            -0.018103   1.000000  0.213374  0.385502       0.284778  \n",
       "alcohol               0.128312   0.213374  1.000000  0.464152       0.393575  \n",
       "quality              -0.074391   0.385502  0.464152  1.000000       0.710196  \n",
       "quality_index        -0.077195   0.284778  0.393575  0.710196       1.000000  "
      ]
     },
     "execution_count": 14,
     "metadata": {},
     "output_type": "execute_result"
    }
   ],
   "source": [
    "df_wine.corr()\n",
    "\n",
    "# Alcohol and sulphates have highest correlation to quality\n",
    "# Quality index and fixed acidity have high correlation"
   ]
  },
  {
   "cell_type": "code",
   "execution_count": null,
   "metadata": {},
   "outputs": [],
   "source": []
  },
  {
   "cell_type": "markdown",
   "metadata": {},
   "source": [
    "### Data Cleaning Report\n",
    "#### IQR Outlier method used to clean outliers out. IQR function created with an upper and lower limit, and use to hand delete and replace with the column mean. This is done to create equal distribution since there are not enough records to warrent equal distributio without replacing with the mean. \"quality_index\" column also created on the basis of the above criteria to be used in ML models."
   ]
  },
  {
   "cell_type": "markdown",
   "metadata": {},
   "source": [
    "## Modeling"
   ]
  },
  {
   "cell_type": "markdown",
   "metadata": {},
   "source": [
    "### Select Modeling Technique\n",
    "#### Since determining variables that influence the quality index is a classification/prediction problem, the technique that is most widely used in this situation is a linear regression model. "
   ]
  },
  {
   "cell_type": "markdown",
   "metadata": {
    "scrolled": true
   },
   "source": [
    "### Linear Regression Model"
   ]
  },
  {
   "cell_type": "code",
   "execution_count": 15,
   "metadata": {},
   "outputs": [],
   "source": [
    "from sklearn.linear_model import LinearRegression"
   ]
  },
  {
   "cell_type": "code",
   "execution_count": 16,
   "metadata": {},
   "outputs": [],
   "source": [
    "x = df_wine[['alcohol', 'sulphates', 'citric_acid']]\n",
    "y = df_wine['quality']\n",
    "\n",
    "# Top 3 most correlated variables fall into x \n",
    "# y will be the dependent variable as 'quality'"
   ]
  },
  {
   "cell_type": "code",
   "execution_count": 17,
   "metadata": {
    "scrolled": true
   },
   "outputs": [
    {
     "data": {
      "text/plain": [
       "(1599, 3)"
      ]
     },
     "execution_count": 17,
     "metadata": {},
     "output_type": "execute_result"
    }
   ],
   "source": [
    "x.shape"
   ]
  },
  {
   "cell_type": "code",
   "execution_count": 18,
   "metadata": {
    "scrolled": true
   },
   "outputs": [
    {
     "data": {
      "text/plain": [
       "(1599,)"
      ]
     },
     "execution_count": 18,
     "metadata": {},
     "output_type": "execute_result"
    }
   ],
   "source": [
    "y.shape"
   ]
  },
  {
   "cell_type": "code",
   "execution_count": 19,
   "metadata": {},
   "outputs": [
    {
     "data": {
      "text/plain": [
       "(4797, 1)"
      ]
     },
     "execution_count": 19,
     "metadata": {},
     "output_type": "execute_result"
    }
   ],
   "source": [
    "x_matrix = x.values.reshape(-1,1)\n",
    "x_matrix.shape\n",
    "\n",
    "# Kept for single linear regression use"
   ]
  },
  {
   "cell_type": "code",
   "execution_count": 20,
   "metadata": {},
   "outputs": [
    {
     "data": {
      "text/plain": [
       "LinearRegression(copy_X=True, fit_intercept=True, n_jobs=None, normalize=False)"
      ]
     },
     "execution_count": 20,
     "metadata": {},
     "output_type": "execute_result"
    }
   ],
   "source": [
    "reg = LinearRegression()\n",
    "reg.fit(x, y)"
   ]
  },
  {
   "cell_type": "code",
   "execution_count": 21,
   "metadata": {},
   "outputs": [
    {
     "data": {
      "text/plain": [
       "0.31152191945168783"
      ]
     },
     "execution_count": 21,
     "metadata": {},
     "output_type": "execute_result"
    }
   ],
   "source": [
    "reg.score(x,y)\n",
    "\n",
    "# Slightly above normal"
   ]
  },
  {
   "cell_type": "code",
   "execution_count": 22,
   "metadata": {},
   "outputs": [
    {
     "data": {
      "text/plain": [
       "array([0.31150414, 1.84652679, 0.43734824])"
      ]
     },
     "execution_count": 22,
     "metadata": {},
     "output_type": "execute_result"
    }
   ],
   "source": [
    "reg.coef_\n",
    "\n",
    "# Through the coefficient score, sulphates have the highest relationship in regards to quality"
   ]
  },
  {
   "cell_type": "code",
   "execution_count": 23,
   "metadata": {},
   "outputs": [
    {
     "data": {
      "text/plain": [
       "1.105835885670059"
      ]
     },
     "execution_count": 23,
     "metadata": {},
     "output_type": "execute_result"
    }
   ],
   "source": [
    "reg.intercept_"
   ]
  },
  {
   "cell_type": "code",
   "execution_count": 24,
   "metadata": {},
   "outputs": [
    {
     "data": {
      "text/plain": [
       "array([5.81045057, 5.75457156, 6.84711823, ..., 5.16488323, 5.2505433 ,\n",
       "       5.10008321])"
      ]
     },
     "execution_count": 24,
     "metadata": {},
     "output_type": "execute_result"
    }
   ],
   "source": [
    "reg.predict(x)"
   ]
  },
  {
   "cell_type": "code",
   "execution_count": 25,
   "metadata": {
    "scrolled": true
   },
   "outputs": [
    {
     "data": {
      "text/html": [
       "<div>\n",
       "<style scoped>\n",
       "    .dataframe tbody tr th:only-of-type {\n",
       "        vertical-align: middle;\n",
       "    }\n",
       "\n",
       "    .dataframe tbody tr th {\n",
       "        vertical-align: top;\n",
       "    }\n",
       "\n",
       "    .dataframe thead th {\n",
       "        text-align: right;\n",
       "    }\n",
       "</style>\n",
       "<table border=\"1\" class=\"dataframe\">\n",
       "  <thead>\n",
       "    <tr style=\"text-align: right;\">\n",
       "      <th></th>\n",
       "      <th>data_number</th>\n",
       "      <th>fixed_acidity</th>\n",
       "      <th>volatile_acidity</th>\n",
       "      <th>citric_acid</th>\n",
       "      <th>residual_sugar</th>\n",
       "      <th>chlorides</th>\n",
       "      <th>free_sulfur_dioxide</th>\n",
       "      <th>total_sulfur_dioxide</th>\n",
       "      <th>density</th>\n",
       "      <th>pH</th>\n",
       "      <th>sulphates</th>\n",
       "      <th>alcohol</th>\n",
       "      <th>quality</th>\n",
       "      <th>quality_index</th>\n",
       "      <th>predicted_quality</th>\n",
       "    </tr>\n",
       "  </thead>\n",
       "  <tbody>\n",
       "    <tr>\n",
       "      <th>0</th>\n",
       "      <td>1270</td>\n",
       "      <td>5.5</td>\n",
       "      <td>0.49</td>\n",
       "      <td>0.03</td>\n",
       "      <td>1.8</td>\n",
       "      <td>0.044</td>\n",
       "      <td>28.0</td>\n",
       "      <td>87.0</td>\n",
       "      <td>0.9900</td>\n",
       "      <td>3.50</td>\n",
       "      <td>0.82</td>\n",
       "      <td>10.2</td>\n",
       "      <td>8</td>\n",
       "      <td>1</td>\n",
       "      <td>5.810451</td>\n",
       "    </tr>\n",
       "    <tr>\n",
       "      <th>1</th>\n",
       "      <td>589</td>\n",
       "      <td>5.0</td>\n",
       "      <td>0.42</td>\n",
       "      <td>0.24</td>\n",
       "      <td>2.0</td>\n",
       "      <td>0.060</td>\n",
       "      <td>19.0</td>\n",
       "      <td>50.0</td>\n",
       "      <td>0.9900</td>\n",
       "      <td>3.31</td>\n",
       "      <td>0.74</td>\n",
       "      <td>10.2</td>\n",
       "      <td>8</td>\n",
       "      <td>1</td>\n",
       "      <td>5.754572</td>\n",
       "    </tr>\n",
       "    <tr>\n",
       "      <th>2</th>\n",
       "      <td>456</td>\n",
       "      <td>11.3</td>\n",
       "      <td>0.62</td>\n",
       "      <td>0.67</td>\n",
       "      <td>2.2</td>\n",
       "      <td>0.086</td>\n",
       "      <td>6.0</td>\n",
       "      <td>19.0</td>\n",
       "      <td>0.9988</td>\n",
       "      <td>3.22</td>\n",
       "      <td>0.69</td>\n",
       "      <td>13.4</td>\n",
       "      <td>8</td>\n",
       "      <td>1</td>\n",
       "      <td>6.847118</td>\n",
       "    </tr>\n",
       "  </tbody>\n",
       "</table>\n",
       "</div>"
      ],
      "text/plain": [
       "   data_number  fixed_acidity  volatile_acidity  citric_acid  residual_sugar  \\\n",
       "0         1270            5.5              0.49         0.03             1.8   \n",
       "1          589            5.0              0.42         0.24             2.0   \n",
       "2          456           11.3              0.62         0.67             2.2   \n",
       "\n",
       "   chlorides  free_sulfur_dioxide  total_sulfur_dioxide  density    pH  \\\n",
       "0      0.044                 28.0                  87.0   0.9900  3.50   \n",
       "1      0.060                 19.0                  50.0   0.9900  3.31   \n",
       "2      0.086                  6.0                  19.0   0.9988  3.22   \n",
       "\n",
       "   sulphates  alcohol  quality  quality_index  predicted_quality  \n",
       "0       0.82     10.2        8              1           5.810451  \n",
       "1       0.74     10.2        8              1           5.754572  \n",
       "2       0.69     13.4        8              1           6.847118  "
      ]
     },
     "execution_count": 25,
     "metadata": {},
     "output_type": "execute_result"
    }
   ],
   "source": [
    "df_wine['predicted_quality'] = reg.predict(x)\n",
    "df_wine.head(3)"
   ]
  },
  {
   "cell_type": "markdown",
   "metadata": {},
   "source": [
    "### Model Evaluation "
   ]
  },
  {
   "cell_type": "markdown",
   "metadata": {},
   "source": [
    "### Linear Regression Evaluation "
   ]
  },
  {
   "cell_type": "code",
   "execution_count": 26,
   "metadata": {
    "scrolled": true
   },
   "outputs": [
    {
     "data": {
      "text/plain": [
       "count    1599.000000\n",
       "mean        5.636023\n",
       "std         0.450738\n",
       "min         4.562998\n",
       "25%         5.263631\n",
       "50%         5.561071\n",
       "75%         5.966282\n",
       "max         7.365552\n",
       "Name: predicted_quality, dtype: float64"
      ]
     },
     "execution_count": 26,
     "metadata": {},
     "output_type": "execute_result"
    }
   ],
   "source": [
    "df_wine['predicted_quality'].describe()"
   ]
  },
  {
   "cell_type": "code",
   "execution_count": 27,
   "metadata": {},
   "outputs": [
    {
     "data": {
      "text/plain": [
       "array([3.10932481e-86, 8.31190718e-58, 5.10256271e-21])"
      ]
     },
     "execution_count": 27,
     "metadata": {},
     "output_type": "execute_result"
    }
   ],
   "source": [
    "from sklearn.feature_selection import f_regression \n",
    "\n",
    "f_regression(x,y)\n",
    "p_values = f_regression(x,y)[1]\n",
    "p_values"
   ]
  },
  {
   "cell_type": "code",
   "execution_count": 28,
   "metadata": {},
   "outputs": [],
   "source": [
    "df_wine.to_excel(r'C:\\Users\\brenden.noblitt\\Desktop\\wineCLEAN.xlsx', index = False)"
   ]
  }
 ],
 "metadata": {
  "kernelspec": {
   "display_name": "Python 3",
   "language": "python",
   "name": "python3"
  },
  "language_info": {
   "codemirror_mode": {
    "name": "ipython",
    "version": 3
   },
   "file_extension": ".py",
   "mimetype": "text/x-python",
   "name": "python",
   "nbconvert_exporter": "python",
   "pygments_lexer": "ipython3",
   "version": "3.7.6"
  }
 },
 "nbformat": 4,
 "nbformat_minor": 4
}
